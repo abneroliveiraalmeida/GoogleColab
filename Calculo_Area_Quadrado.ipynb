{
  "nbformat": 4,
  "nbformat_minor": 0,
  "metadata": {
    "colab": {
      "name": "Calculo_Area_Quadrado.ipynb",
      "provenance": [],
      "authorship_tag": "ABX9TyMRMeH1zF8wqvz9QjDGZXUZ"
    },
    "kernelspec": {
      "name": "python3",
      "display_name": "Python 3"
    },
    "language_info": {
      "name": "python"
    }
  },
  "cells": [
    {
      "cell_type": "code",
      "execution_count": null,
      "metadata": {
        "id": "WyrSr1cxLC9O"
      },
      "outputs": [],
      "source": [
        ""
      ]
    }
  ]
}