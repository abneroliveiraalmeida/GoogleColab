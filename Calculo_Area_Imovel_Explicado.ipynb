{
  "nbformat": 4,
  "nbformat_minor": 0,
  "metadata": {
    "colab": {
      "name": "Calculo_Area_Imovel_Explicado.ipynb",
      "provenance": [],
      "authorship_tag": "ABX9TyOZV3s4n24GAUEDj2pzGI+r"
    },
    "kernelspec": {
      "name": "python3",
      "display_name": "Python 3"
    },
    "language_info": {
      "name": "python"
    }
  },
  "cells": [
    {
      "cell_type": "markdown",
      "source": [
        "# Cálculo da área de imóvel"
      ],
      "metadata": {
        "id": "BaZT_3HltXB7"
      }
    },
    {
      "cell_type": "markdown",
      "source": [
        "## Cálculos diretos\n",
        "\n"
      ],
      "metadata": {
        "id": "CM6RnK11uWWn"
      }
    },
    {
      "cell_type": "markdown",
      "source": [
        "Como ponto de partida para nosso objetivo, vamos trabalhar no problema de calcular a área de um quadrado/retangulo. \n",
        "\n",
        "Fonte da Imagem: [Casa Madepinus - Planta N.57](https://www.casamadepinus.com.br/planta.php?modelo=49&quartos=6)\n",
        "\n",
        "![Planta_Baixa_Imovel](https://www.casamadepinus.com.br/img/plantas/projetadas/planta-baixa-casa-madepinus-06760894239918968584.png)\n"
      ],
      "metadata": {
        "id": "dp_PbIkntbsD"
      }
    },
    {
      "cell_type": "markdown",
      "source": [
        "Podemos começar fazendo o cálculo direto (base * altura). Com isso, teremos a área daquela região"
      ],
      "metadata": {
        "id": "SRg_y3nkthgd"
      }
    },
    {
      "cell_type": "code",
      "execution_count": null,
      "metadata": {
        "id": "xKFA9SulqLNz"
      },
      "outputs": [],
      "source": [
        "#Banheiro\n",
        "print(2.40 * 1.20)\n"
      ]
    },
    {
      "cell_type": "code",
      "source": [
        "#Quarto 1\n",
        "print(3.0 * 2.5)\n",
        "\n",
        "#Quarto 2\n",
        "print(3.0 * 2.5)\n",
        "\n",
        "#Quarto 3\n",
        "print(3.0 * 3.0)\n",
        "\n",
        "#Sala \n",
        "print(4.0 * 3.0)\n",
        "\n",
        "#Cozinha\n",
        "print(4.0 * 3.0)"
      ],
      "metadata": {
        "id": "KlqTkoXsto8P"
      },
      "execution_count": null,
      "outputs": []
    },
    {
      "cell_type": "markdown",
      "source": [
        "E para calcular a área como um todo? Podemos somar todas os cálculos de forma individual..."
      ],
      "metadata": {
        "id": "05vOH0hWt5rI"
      }
    },
    {
      "cell_type": "code",
      "source": [
        "print((2.40 * 1.20) + (3.0 * 2.5) + (3.0 * 2.5) + (3.0 * 3.0) + (4.0 * 3.0) + (4.0 * 3.0))"
      ],
      "metadata": {
        "id": "iCdqiRtMt9t5"
      },
      "execution_count": null,
      "outputs": []
    },
    {
      "cell_type": "markdown",
      "source": [
        "ou então, seus resultados já calculados"
      ],
      "metadata": {
        "id": "FFGqDkkQy2w9"
      }
    },
    {
      "cell_type": "code",
      "source": [
        "print( 2.88 + 7.5 + 7.5 + 9.0 + 12.0 + 12.0 )"
      ],
      "metadata": {
        "id": "fRqAFiwdt84w"
      },
      "execution_count": null,
      "outputs": []
    },
    {
      "cell_type": "markdown",
      "source": [
        "Será que podemos reaproveitar estes números para trabalharmos com eles no futuro? Sim, isso é possível armazenamento os valores em variáveis\n"
      ],
      "metadata": {
        "id": "CM8yD94Et8D-"
      }
    },
    {
      "cell_type": "code",
      "source": [
        "Banheiro = 2.40 * 1.20\n",
        "Quarto_1 = 3.0 * 2.5\n",
        "Quarto_2 = 3.0 * 2.5\n",
        "Quarto_3 = 3.0 * 3.0\n",
        "Sala = 4.0 * 3.0\n",
        "Cozinha = 4.0 * 3.0\n",
        "\n",
        "Area_Total = Banheiro + Quarto_1 + Quarto_2 + Quarto_3 + Sala + Cozinha"
      ],
      "metadata": {
        "id": "gDpVzzsnufDU"
      },
      "execution_count": null,
      "outputs": []
    },
    {
      "cell_type": "code",
      "source": [
        "print(\"Área Total:\", Area_Total)\n",
        "\n",
        "print(\"Área Total:\", '%0.2f'%Area_Total)"
      ],
      "metadata": {
        "id": "6tUwW-V3uzpY"
      },
      "execution_count": null,
      "outputs": []
    },
    {
      "cell_type": "markdown",
      "source": [
        "## Incluindo valores no dicionário\n",
        "\n",
        "> O que é um dicionário? \"é uma coleção desordenada, mutável e indexada. Nenhum membro duplicado\"\n"
      ],
      "metadata": {
        "id": "BcBuDqJQu5mm"
      }
    },
    {
      "cell_type": "code",
      "source": [
        "Casa = {'Banheiro':Banheiro, 'Quarto 1':Quarto_1, 'Quarto 2':Quarto_2, 'Quarto 3':Quarto_3, 'Sala':Sala, 'Cozinha':Cozinha}\n"
      ],
      "metadata": {
        "id": "2obBZvu0u-_V"
      },
      "execution_count": null,
      "outputs": []
    },
    {
      "cell_type": "markdown",
      "source": [
        "Nesta casa, é possível retornar os elementos chave??"
      ],
      "metadata": {
        "id": "B7_uudsRzZXG"
      }
    },
    {
      "cell_type": "code",
      "source": [
        "print(Casa.keys())\n"
      ],
      "metadata": {
        "id": "-zg2XOqSvFgh"
      },
      "execution_count": null,
      "outputs": []
    },
    {
      "cell_type": "markdown",
      "source": [
        "E o valor de um elemento chave, será que é possível?"
      ],
      "metadata": {
        "id": "NzRdAZutzoIV"
      }
    },
    {
      "cell_type": "code",
      "source": [
        "print(Casa.values())"
      ],
      "metadata": {
        "id": "T3pK2r-wziJ_"
      },
      "execution_count": null,
      "outputs": []
    },
    {
      "cell_type": "markdown",
      "source": [
        "Já sabemos retornar os elementos chaves e os valores de um dicionário... Como fazer para retornar um valor específico de um elemento?"
      ],
      "metadata": {
        "id": "o-pVS3ft0FCG"
      }
    },
    {
      "cell_type": "code",
      "source": [
        "print(Casa['Sala'])\n",
        "\n",
        "print(\"Quarto 2 =\", '%0.2f'%Casa['Quarto 2'])"
      ],
      "metadata": {
        "id": "Tq2tTVuTvFKS"
      },
      "execution_count": null,
      "outputs": []
    },
    {
      "cell_type": "markdown",
      "source": [
        "E posso criar um dicionário com dicionários dentro?"
      ],
      "metadata": {
        "id": "jSKsLj-Bvhdg"
      }
    },
    {
      "cell_type": "code",
      "source": [
        "MinhasCasas = { 'Casa 1': { 'Endereço':'Av Faria Lima', 'Comodos': { 'Banheiro': 2.88, 'Quarto 1': 7.5, 'Quarto 2':7.5, 'Quarto 3':9.0, 'Sala':12.0, 'Cozinha':12.0 } },\n",
        "                'Casa 2': { 'Endereço':'Av Paulista', 'Comodos': { 'Banheiro':Banheiro, 'Quarto 1':Quarto_1, 'Quarto 2':Quarto_2, 'Quarto 3':Quarto_3, 'Sala':Sala, 'Cozinha':Cozinha } } }\n"
      ],
      "metadata": {
        "id": "fANvQS-qvn9_"
      },
      "execution_count": null,
      "outputs": []
    },
    {
      "cell_type": "code",
      "source": [
        "MinhasCasas.keys()\n"
      ],
      "metadata": {
        "id": "XCiLVfZavwVV"
      },
      "execution_count": null,
      "outputs": []
    },
    {
      "cell_type": "code",
      "source": [
        "MinhasCasas.items()"
      ],
      "metadata": {
        "id": "6SLOrrq6vzeZ"
      },
      "execution_count": null,
      "outputs": []
    },
    {
      "cell_type": "code",
      "source": [
        "MinhasCasas['Casa 2']"
      ],
      "metadata": {
        "id": "7CaBGRTOvz7o"
      },
      "execution_count": null,
      "outputs": []
    },
    {
      "cell_type": "code",
      "source": [
        "MinhasCasas['Casa 1']['Comodos']"
      ],
      "metadata": {
        "id": "Gw-deAgGv0PI"
      },
      "execution_count": null,
      "outputs": []
    },
    {
      "cell_type": "markdown",
      "source": [
        "E como fazer para percorrer todos os itens do dicionário?\n"
      ],
      "metadata": {
        "id": "0ShYodx3wHUl"
      }
    },
    {
      "cell_type": "code",
      "source": [
        "for key, item in MinhasCasas.items():\n",
        "  print(key, item)"
      ],
      "metadata": {
        "id": "ErZyAgd4wLl9"
      },
      "execution_count": null,
      "outputs": []
    },
    {
      "cell_type": "code",
      "source": [
        "for chave in MinhasCasas.keys():\n",
        "  print(chave)\n",
        "  for item in MinhasCasas[chave].items():\n",
        "    print(item)"
      ],
      "metadata": {
        "id": "lu2Ab96uwQnZ"
      },
      "execution_count": null,
      "outputs": []
    },
    {
      "cell_type": "code",
      "source": [
        "areaComodo = 0\n",
        "comodo = input(\"Informe o cômodo? \")\n",
        "\n",
        "for chave in MinhasCasas.keys():\n",
        "  print(chave)\n",
        "  for elemento in MinhasCasas[chave]['Comodos'].items():\n",
        "    if elemento[0] == comodo:\n",
        "      areaComodo += elemento[1]\n",
        "      print(elemento)\n",
        "\n",
        "print(\"Total dos cômodos:\", '%0.2f'%areaComodo)"
      ],
      "metadata": {
        "id": "s1bW3l5VwXMN"
      },
      "execution_count": null,
      "outputs": []
    },
    {
      "cell_type": "markdown",
      "source": [
        "## Reuso dos códigos"
      ],
      "metadata": {
        "id": "8evbyJT6wsB5"
      }
    },
    {
      "cell_type": "markdown",
      "source": [
        "Criação de função"
      ],
      "metadata": {
        "id": "qfSA9QylwvDa"
      }
    },
    {
      "cell_type": "code",
      "source": [
        "def calcular_area(base, altura):\n",
        "  area = base * altura\n",
        "  return area\n"
      ],
      "metadata": {
        "id": "wzIkKA8Xwwea"
      },
      "execution_count": null,
      "outputs": []
    },
    {
      "cell_type": "code",
      "source": [
        "calcular_area(2.5,3)"
      ],
      "metadata": {
        "id": "5-gwyLm_wy6L"
      },
      "execution_count": null,
      "outputs": []
    },
    {
      "cell_type": "code",
      "source": [
        "def calcular_area_imovel(nome_imovel):\n",
        "  area_imovel = 0\n",
        "  \n",
        "  for elemento in MinhasCasas[nome_imovel]['Comodos'].items():\n",
        "      area_imovel += elemento[1]\n",
        "\n",
        "  return area_imovel"
      ],
      "metadata": {
        "id": "aRzXeGGrw3Uj"
      },
      "execution_count": null,
      "outputs": []
    },
    {
      "cell_type": "code",
      "source": [
        "calcular_area_imovel('Casa 3')"
      ],
      "metadata": {
        "id": "BaXuGpDZw240"
      },
      "execution_count": null,
      "outputs": []
    },
    {
      "cell_type": "code",
      "source": [
        "def adicionar_casa(nome_casa, endereco_casa, comodos_casa):\n",
        "  caracteristica = { nome_casa: {'Endereço':endereco_casa, 'Comodos': novaCasa }}\n",
        "  MinhasCasas.update(caracteristica)\n",
        "\n",
        "  return (\"Casa incluída com sucesso!\")"
      ],
      "metadata": {
        "id": "dHFH-_340uxm"
      },
      "execution_count": null,
      "outputs": []
    },
    {
      "cell_type": "code",
      "source": [
        "def retornar_casas():\n",
        "  print( MinhasCasas.keys() )"
      ],
      "metadata": {
        "id": "hzm8EvWU37A-"
      },
      "execution_count": null,
      "outputs": []
    },
    {
      "cell_type": "markdown",
      "source": [
        "## Interagindo com listas"
      ],
      "metadata": {
        "id": "iXKxvaPSw_Jk"
      }
    },
    {
      "cell_type": "markdown",
      "source": [
        "> O que é uma lista? \"É uma coleção ordenada e mutável. Permite membros  duplicados\"\n"
      ],
      "metadata": {
        "id": "wxPzScMcxUO7"
      }
    },
    {
      "cell_type": "code",
      "source": [
        "lista_de_elementos = ['Banheiro', 'Quarto 1', 'Quarto 2', 'Quarto 3', 'Sala', 'Cozinha']\n"
      ],
      "metadata": {
        "id": "oVAKmJkExB-x"
      },
      "execution_count": null,
      "outputs": []
    },
    {
      "cell_type": "code",
      "source": [
        "len(lista_de_elementos)\n"
      ],
      "metadata": {
        "id": "yfKkxIML1hUw"
      },
      "execution_count": null,
      "outputs": []
    },
    {
      "cell_type": "code",
      "source": [
        "lista_de_elementos.sort()\n",
        "print(lista_de_elementos)"
      ],
      "metadata": {
        "id": "U2bf2z8x17cX"
      },
      "execution_count": null,
      "outputs": []
    },
    {
      "cell_type": "code",
      "source": [
        "lista_de_elementos[1] = 'PISCINA'\n",
        "print(lista_de_elementos)"
      ],
      "metadata": {
        "id": "TS3sdaNq1-BJ"
      },
      "execution_count": null,
      "outputs": []
    },
    {
      "cell_type": "code",
      "source": [
        "#lista_comodos.index('Quarto') #dá erro porque não existe o elemento \"Quarto\"\n",
        "lista_de_elementos.index('Quarto 1')\n",
        "lista_de_elementos[2]"
      ],
      "metadata": {
        "id": "XWv74ob02PH8"
      },
      "execution_count": null,
      "outputs": []
    },
    {
      "cell_type": "code",
      "source": [
        "lista_de_elementos.append('AREA DE SERVIÇO')\n",
        "print(lista_de_elementos)"
      ],
      "metadata": {
        "id": "fNO1TlCc2yym"
      },
      "execution_count": null,
      "outputs": []
    },
    {
      "cell_type": "code",
      "source": [
        "lista_comodos = ['Banheiro', 'Quarto 1', 'Quarto 2', 'Quarto 3', 'Sala', 'Cozinha']\n",
        "lista_base = [2.4, 3, 3, 3, 3, 3]\n",
        "lista_altura = [1.2, 3, 3, 4, 5, 5]\n",
        "\n",
        "lista_area = []\n",
        "\n",
        "for i in range(len(lista_base)):\n",
        "  lista_area.append(calcular_area(lista_base[i],lista_altura[i]))\n",
        "\n",
        "print(lista_area)"
      ],
      "metadata": {
        "id": "10eCY3rixOEa"
      },
      "execution_count": null,
      "outputs": []
    },
    {
      "cell_type": "code",
      "source": [
        "novaCasa = {}\n",
        "\n",
        "for i in range(len(lista_comodos)):\n",
        "  novaCasa[lista_comodos[i]] = calcular_area(lista_base[i],lista_altura[i])\n",
        "\n",
        "novaCasa"
      ],
      "metadata": {
        "id": "oEEpQmd3xm9S"
      },
      "execution_count": null,
      "outputs": []
    },
    {
      "cell_type": "code",
      "source": [
        "nome_casa = 'Casa 3'\n",
        "endereco_casa = 'Av Brasil'\n",
        "\n",
        "caracteristica = { nome_casa: {'Endereço':endereco_casa, 'Comodos': novaCasa }}\n",
        "\n",
        "MinhasCasas.update(caracteristica)"
      ],
      "metadata": {
        "id": "PxzuwwU5x3n5"
      },
      "execution_count": null,
      "outputs": []
    },
    {
      "cell_type": "code",
      "source": [
        "# Garantir que a função adicionar_casa está criada"
      ],
      "metadata": {
        "id": "t6oOlaD9x_Fb"
      },
      "execution_count": null,
      "outputs": []
    },
    {
      "cell_type": "code",
      "source": [
        "lista_comodos = ['Banheiro', 'Quarto 1', 'Quarto 2', 'Quarto 3', 'Sala', 'Cozinha']\n",
        "lista_base = [2.4, 3.5, 3.5, 3.5, 3.5, 3.5]\n",
        "lista_altura = [1.2, 3, 3, 4, 5, 5]\n",
        "\n",
        "for i in range(len(lista_comodos)):\n",
        "  novaCasa[lista_comodos[i]] = lista_base[i] * lista_altura[i]\n",
        "\n",
        "novaCasa\n",
        "\n",
        "adicionar_casa('Casa 4', 'Av Ibirapuera', novaCasa)"
      ],
      "metadata": {
        "id": "CbNW6atByE4k"
      },
      "execution_count": null,
      "outputs": []
    },
    {
      "cell_type": "code",
      "source": [
        "calcular_area_imovel('Casa 4')"
      ],
      "metadata": {
        "id": "FjkVFyxgyEw6"
      },
      "execution_count": null,
      "outputs": []
    },
    {
      "cell_type": "code",
      "source": [
        "retornar_casas()"
      ],
      "metadata": {
        "id": "x2IWcqjh4ATo"
      },
      "execution_count": null,
      "outputs": []
    },
    {
      "cell_type": "code",
      "source": [
        ""
      ],
      "metadata": {
        "id": "4_UhbZok4ziM"
      },
      "execution_count": null,
      "outputs": []
    }
  ]
}