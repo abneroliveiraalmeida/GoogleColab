{
  "nbformat": 4,
  "nbformat_minor": 0,
  "metadata": {
    "colab": {
      "name": "Calculo_Area_Quadrado.ipynb",
      "provenance": [],
      "authorship_tag": "ABX9TyPsZUPJdnuG00zm5LmAUAkX"
    },
    "kernelspec": {
      "name": "python3",
      "display_name": "Python 3"
    },
    "language_info": {
      "name": "python"
    }
  },
  "cells": [
    {
      "cell_type": "code",
      "execution_count": 5,
      "metadata": {
        "colab": {
          "base_uri": "https://localhost:8080/"
        },
        "id": "WyrSr1cxLC9O",
        "outputId": "c26f2802-b416-4309-8adf-d23927914300"
      },
      "outputs": [
        {
          "output_type": "stream",
          "name": "stdout",
          "text": [
            "7.5\n",
            "7.5\n",
            "9\n",
            "12\n",
            "12\n",
            "2.88\n"
          ]
        }
      ],
      "source": [
        "#Área interna\n",
        "print( 3*2.5 ) #Quarto 1\n",
        "print( 3*2.5 ) #Quarto 2\n",
        "print( 3*3 ) #Quarto 3\n",
        "print( 3*4 ) #Sala\n",
        "print( 3*4 ) #Cozinha\n",
        "print( 1.2*2.4 ) #Banheiro"
      ]
    },
    {
      "cell_type": "code",
      "source": [
        "print( (3*2.5) + (3*2.5) + (3*3) + (3*4) +  (3*4) + (1.2*2.4)  )"
      ],
      "metadata": {
        "colab": {
          "base_uri": "https://localhost:8080/"
        },
        "id": "pfEVwzdGPsT1",
        "outputId": "1b6a35ef-6f6e-46be-940a-9ce43d726c6f"
      },
      "execution_count": 6,
      "outputs": [
        {
          "output_type": "stream",
          "name": "stdout",
          "text": [
            "50.88\n"
          ]
        }
      ]
    },
    {
      "cell_type": "code",
      "source": [
        "print(7.5 + 7.5 + 9 + 12 + 12 + 2.88)"
      ],
      "metadata": {
        "colab": {
          "base_uri": "https://localhost:8080/"
        },
        "id": "uXkbIf-rPucM",
        "outputId": "db803495-39c1-4fb0-c4d2-77af626f0dd3"
      },
      "execution_count": 7,
      "outputs": [
        {
          "output_type": "stream",
          "name": "stdout",
          "text": [
            "50.88\n"
          ]
        }
      ]
    },
    {
      "cell_type": "code",
      "source": [
        "Quarto_1 = 3*2.5\n",
        "Quarto_2 = 3*2.5\n",
        "Quarto_3 = 3*3\n",
        "Sala = 3*4\n",
        "Cozinha = 3*4\n",
        "Banheiro = 1.2*2.4"
      ],
      "metadata": {
        "id": "Xib6A29sRIrl"
      },
      "execution_count": 18,
      "outputs": []
    },
    {
      "cell_type": "code",
      "source": [
        "area_imovel = Quarto_1 + Quarto_2 + Quarto_3 + Sala + Cozinha + Banheiro"
      ],
      "metadata": {
        "id": "qM6UGaJKRIos"
      },
      "execution_count": 19,
      "outputs": []
    },
    {
      "cell_type": "code",
      "source": [
        "print(area_imovel)"
      ],
      "metadata": {
        "colab": {
          "base_uri": "https://localhost:8080/"
        },
        "id": "-4Ho8N_zRImX",
        "outputId": "d1472661-13d0-446e-b7e4-7e30f8a13e9d"
      },
      "execution_count": 20,
      "outputs": [
        {
          "output_type": "stream",
          "name": "stdout",
          "text": [
            "50.88\n"
          ]
        }
      ]
    },
    {
      "cell_type": "code",
      "source": [
        "Casa = { 'Quarto_1':3*2.5, 'Quarto_2':3*2.5, 'Quarto_3':Quarto_3, 'Sala':Sala, 'Cozinha':Cozinha, 'Banheiro':Banheiro  }"
      ],
      "metadata": {
        "id": "BE82mq09RIj0"
      },
      "execution_count": 21,
      "outputs": []
    },
    {
      "cell_type": "code",
      "source": [
        "print(Casa.keys())"
      ],
      "metadata": {
        "colab": {
          "base_uri": "https://localhost:8080/"
        },
        "id": "4QGeFi4bRIhg",
        "outputId": "6ab21f05-0950-4b11-d077-b18e92c488b8"
      },
      "execution_count": 23,
      "outputs": [
        {
          "output_type": "stream",
          "name": "stdout",
          "text": [
            "dict_keys(['Quarto_1', 'Quarto_2', 'Quarto_3', 'Sala', 'Cozinha', 'Banheiro'])\n"
          ]
        }
      ]
    },
    {
      "cell_type": "code",
      "source": [
        "print(Casa.values())"
      ],
      "metadata": {
        "colab": {
          "base_uri": "https://localhost:8080/"
        },
        "id": "5Ezeck_WRIe6",
        "outputId": "10e10d93-54ad-444f-c51d-7908b9c9077f"
      },
      "execution_count": 24,
      "outputs": [
        {
          "output_type": "stream",
          "name": "stdout",
          "text": [
            "dict_values([7.5, 7.5, 9, 12, 12, 2.88])\n"
          ]
        }
      ]
    },
    {
      "cell_type": "code",
      "source": [
        "Casa['Cozinha']"
      ],
      "metadata": {
        "colab": {
          "base_uri": "https://localhost:8080/"
        },
        "id": "N7Ao9hs6RIcd",
        "outputId": "d51ae431-b902-4d41-976b-da8cc3530802"
      },
      "execution_count": 25,
      "outputs": [
        {
          "output_type": "execute_result",
          "data": {
            "text/plain": [
              "12"
            ]
          },
          "metadata": {},
          "execution_count": 25
        }
      ]
    },
    {
      "cell_type": "code",
      "source": [
        "MinhasCasas = { 'Casa 1': { 'Endereço':'Av Faria Lima', 'Comodos': { 'Quarto_1':3*2.5, 'Quarto_2':3*2.5, 'Quarto_3':Quarto_3, 'Sala':Sala, 'Cozinha':Cozinha, 'Banheiro':Banheiro  }},\n",
        "                'Casa 2': {'Endereço': 'Av Paulista', 'Comodos': { 'Quarto_1':3*2.5, 'Quarto_2':3*2.5, 'Quarto_3':Quarto_3, 'Sala':Sala, 'Cozinha':Cozinha, 'Banheiro':Banheiro  }}   \n",
        "}"
      ],
      "metadata": {
        "id": "Hllp1QsTRIZ2"
      },
      "execution_count": 30,
      "outputs": []
    },
    {
      "cell_type": "code",
      "source": [
        "MinhasCasas.keys()"
      ],
      "metadata": {
        "colab": {
          "base_uri": "https://localhost:8080/"
        },
        "id": "qyHl-qTXVJrl",
        "outputId": "e3b569c2-c3c5-4f41-8eab-b93ec276769e"
      },
      "execution_count": 31,
      "outputs": [
        {
          "output_type": "execute_result",
          "data": {
            "text/plain": [
              "dict_keys(['Casa 1', 'Casa 2'])"
            ]
          },
          "metadata": {},
          "execution_count": 31
        }
      ]
    },
    {
      "cell_type": "code",
      "source": [
        "MinhasCasas.items()"
      ],
      "metadata": {
        "colab": {
          "base_uri": "https://localhost:8080/"
        },
        "id": "y3i-fg6gVJow",
        "outputId": "d318641c-7c8f-4541-be72-8970da83e7e6"
      },
      "execution_count": 33,
      "outputs": [
        {
          "output_type": "execute_result",
          "data": {
            "text/plain": [
              "dict_items([('Casa 1', {'Endereço': 'Av Faria Lima', 'Comodos': {'Quarto_1': 7.5, 'Quarto_2': 7.5, 'Quarto_3': 9, 'Sala': 12, 'Cozinha': 12, 'Banheiro': 2.88}}), ('Casa 2', {'Endereço': 'Av Paulista', 'Comodos': {'Quarto_1': 7.5, 'Quarto_2': 7.5, 'Quarto_3': 9, 'Sala': 12, 'Cozinha': 12, 'Banheiro': 2.88}})])"
            ]
          },
          "metadata": {},
          "execution_count": 33
        }
      ]
    },
    {
      "cell_type": "code",
      "source": [
        "MinhasCasas.values()"
      ],
      "metadata": {
        "colab": {
          "base_uri": "https://localhost:8080/"
        },
        "id": "9q5b39DKVJmH",
        "outputId": "4607e54b-973e-40d6-e588-564a40225cee"
      },
      "execution_count": 34,
      "outputs": [
        {
          "output_type": "execute_result",
          "data": {
            "text/plain": [
              "dict_values([{'Endereço': 'Av Faria Lima', 'Comodos': {'Quarto_1': 7.5, 'Quarto_2': 7.5, 'Quarto_3': 9, 'Sala': 12, 'Cozinha': 12, 'Banheiro': 2.88}}, {'Endereço': 'Av Paulista', 'Comodos': {'Quarto_1': 7.5, 'Quarto_2': 7.5, 'Quarto_3': 9, 'Sala': 12, 'Cozinha': 12, 'Banheiro': 2.88}}])"
            ]
          },
          "metadata": {},
          "execution_count": 34
        }
      ]
    },
    {
      "cell_type": "code",
      "source": [
        "MinhasCasas['Casa 1']['Endereço']"
      ],
      "metadata": {
        "colab": {
          "base_uri": "https://localhost:8080/",
          "height": 35
        },
        "id": "eiOG8B0nVJjt",
        "outputId": "4d9a4f2d-cb4c-4f17-fd8f-f9b943b5bf21"
      },
      "execution_count": 37,
      "outputs": [
        {
          "output_type": "execute_result",
          "data": {
            "text/plain": [
              "'Av Faria Lima'"
            ],
            "application/vnd.google.colaboratory.intrinsic+json": {
              "type": "string"
            }
          },
          "metadata": {},
          "execution_count": 37
        }
      ]
    },
    {
      "cell_type": "code",
      "source": [
        "for key, item in MinhasCasas.items():\n",
        "  print(key,item)"
      ],
      "metadata": {
        "colab": {
          "base_uri": "https://localhost:8080/"
        },
        "id": "sk_ko5fZVJhW",
        "outputId": "296c2d76-d242-4f52-f2bd-6f85f5bc96f8"
      },
      "execution_count": 41,
      "outputs": [
        {
          "output_type": "stream",
          "name": "stdout",
          "text": [
            "Casa 1 {'Endereço': 'Av Faria Lima', 'Comodos': {'Quarto_1': 7.5, 'Quarto_2': 7.5, 'Quarto_3': 9, 'Sala': 12, 'Cozinha': 12, 'Banheiro': 2.88}}\n",
            "Casa 2 {'Endereço': 'Av Paulista', 'Comodos': {'Quarto_1': 7.5, 'Quarto_2': 7.5, 'Quarto_3': 9, 'Sala': 12, 'Cozinha': 12, 'Banheiro': 2.88}}\n"
          ]
        }
      ]
    },
    {
      "cell_type": "code",
      "source": [
        "for chave in MinhasCasas.keys():\n",
        "  print(chave)\n",
        "  for item in MinhasCasas[chave].items():\n",
        "    print(item)\n"
      ],
      "metadata": {
        "colab": {
          "base_uri": "https://localhost:8080/"
        },
        "id": "71nJEjMMVJe2",
        "outputId": "32d066dc-5fe4-49a2-bd74-76e75c65612d"
      },
      "execution_count": 45,
      "outputs": [
        {
          "output_type": "stream",
          "name": "stdout",
          "text": [
            "Casa 1\n",
            "('Endereço', 'Av Faria Lima')\n",
            "('Comodos', {'Quarto_1': 7.5, 'Quarto_2': 7.5, 'Quarto_3': 9, 'Sala': 12, 'Cozinha': 12, 'Banheiro': 2.88})\n",
            "Casa 2\n",
            "('Endereço', 'Av Paulista')\n",
            "('Comodos', {'Quarto_1': 7.5, 'Quarto_2': 7.5, 'Quarto_3': 9, 'Sala': 12, 'Cozinha': 12, 'Banheiro': 2.88})\n"
          ]
        }
      ]
    },
    {
      "cell_type": "code",
      "source": [
        "lista_de_elementos = ['Quarto 1', 'Quarto 2', 'Quarto 3', 'Sala', 'Cozinha', 'Banheiro']"
      ],
      "metadata": {
        "id": "bV87H78FXgUu"
      },
      "execution_count": 46,
      "outputs": []
    },
    {
      "cell_type": "code",
      "source": [
        "len(lista_de_elementos)"
      ],
      "metadata": {
        "colab": {
          "base_uri": "https://localhost:8080/"
        },
        "id": "rFPcJyfOXg81",
        "outputId": "8049875e-82de-44a6-ecd8-0c712e1b8b20"
      },
      "execution_count": 47,
      "outputs": [
        {
          "output_type": "execute_result",
          "data": {
            "text/plain": [
              "6"
            ]
          },
          "metadata": {},
          "execution_count": 47
        }
      ]
    },
    {
      "cell_type": "code",
      "source": [
        "print(lista_de_elementos[0])\n",
        "print(lista_de_elementos[1])\n",
        "print(lista_de_elementos[len(lista_de_elementos)-1])"
      ],
      "metadata": {
        "colab": {
          "base_uri": "https://localhost:8080/"
        },
        "id": "kfLaLxzbXg6L",
        "outputId": "72142c58-ab10-4a3f-bbf9-f51986b88ca9"
      },
      "execution_count": 51,
      "outputs": [
        {
          "output_type": "stream",
          "name": "stdout",
          "text": [
            "Quarto 1\n",
            "Quarto 2\n",
            "Banheiro\n"
          ]
        }
      ]
    },
    {
      "cell_type": "code",
      "source": [
        "print(lista_de_elementos[0])\n",
        "print(lista_de_elementos[1])\n",
        "print(lista_de_elementos[len(lista_de_elementos)-1])"
      ],
      "metadata": {
        "colab": {
          "base_uri": "https://localhost:8080/"
        },
        "id": "zWmPw-WaXg3p",
        "outputId": "36d5dc5d-a036-423d-f2ef-8450d1656872"
      },
      "execution_count": 54,
      "outputs": [
        {
          "output_type": "stream",
          "name": "stdout",
          "text": [
            "Banheiro\n",
            "Cozinha\n",
            "Sala\n"
          ]
        }
      ]
    },
    {
      "cell_type": "code",
      "source": [
        "lista_de_elementos.sort()"
      ],
      "metadata": {
        "id": "NxdSpu7wXg09"
      },
      "execution_count": 53,
      "outputs": []
    },
    {
      "cell_type": "code",
      "source": [
        "print(lista_de_elementos)"
      ],
      "metadata": {
        "colab": {
          "base_uri": "https://localhost:8080/"
        },
        "id": "Kmue6TyTXgSC",
        "outputId": "a5cabd26-acce-4bb5-9a2d-8772822e777e"
      },
      "execution_count": 55,
      "outputs": [
        {
          "output_type": "stream",
          "name": "stdout",
          "text": [
            "['Banheiro', 'Cozinha', 'Quarto 1', 'Quarto 2', 'Quarto 3', 'Sala']\n"
          ]
        }
      ]
    },
    {
      "cell_type": "code",
      "source": [
        "lista_de_elementos[4] = 'PISCINA'"
      ],
      "metadata": {
        "id": "_hKMIW8nXgPb"
      },
      "execution_count": 56,
      "outputs": []
    },
    {
      "cell_type": "code",
      "source": [
        "print(lista_de_elementos)"
      ],
      "metadata": {
        "colab": {
          "base_uri": "https://localhost:8080/"
        },
        "id": "dmk0AHA5Zvk7",
        "outputId": "d528d3a3-ee7c-4015-e8d5-2939064269ca"
      },
      "execution_count": 57,
      "outputs": [
        {
          "output_type": "stream",
          "name": "stdout",
          "text": [
            "['Banheiro', 'Cozinha', 'Quarto 1', 'Quarto 2', 'PISCINA', 'Sala']\n"
          ]
        }
      ]
    },
    {
      "cell_type": "code",
      "source": [
        "lista_de_elementos.append('AREA DE SERVIÇO')"
      ],
      "metadata": {
        "id": "_LedKEa4Zvih"
      },
      "execution_count": 58,
      "outputs": []
    },
    {
      "cell_type": "code",
      "source": [
        "print(lista_de_elementos)"
      ],
      "metadata": {
        "colab": {
          "base_uri": "https://localhost:8080/"
        },
        "id": "d_y6ovumZvfD",
        "outputId": "3ef4227b-d737-4f62-cea2-930ccad2908f"
      },
      "execution_count": 59,
      "outputs": [
        {
          "output_type": "stream",
          "name": "stdout",
          "text": [
            "['Banheiro', 'Cozinha', 'Quarto 1', 'Quarto 2', 'PISCINA', 'Sala', 'AREA DE SERVIÇO']\n"
          ]
        }
      ]
    },
    {
      "cell_type": "code",
      "source": [
        "print(lista_de_elementos[0])\n",
        "print(lista_de_elementos[1])\n",
        "print(lista_de_elementos[len(lista_de_elementos)-1])"
      ],
      "metadata": {
        "colab": {
          "base_uri": "https://localhost:8080/"
        },
        "id": "oLxu55ybZvcp",
        "outputId": "cc41ab7c-3007-4473-f0b4-938550c8aa17"
      },
      "execution_count": 60,
      "outputs": [
        {
          "output_type": "stream",
          "name": "stdout",
          "text": [
            "Banheiro\n",
            "Cozinha\n",
            "AREA DE SERVIÇO\n"
          ]
        }
      ]
    },
    {
      "cell_type": "code",
      "source": [
        "def calcular_area(base, altura):\n",
        "  area = base * altura\n",
        "  return area"
      ],
      "metadata": {
        "id": "19gmPD-bZvaL"
      },
      "execution_count": 61,
      "outputs": []
    },
    {
      "cell_type": "code",
      "source": [
        "novo_comodo = input(\"Entre com o nome do cômodo: \")\n",
        "nova_base = int(input(\"Entre com a base do cômodo: \"))\n",
        "nova_altura = int(input(\"Entre com a altura do cômodo: \"))\n",
        "print('O cômodo ',novo_comodo, ' tem a área de ', calcular_area(nova_base,nova_altura), 'metros quadrados')"
      ],
      "metadata": {
        "colab": {
          "base_uri": "https://localhost:8080/"
        },
        "id": "V9otAJjlavU6",
        "outputId": "b8499b31-ad2d-4254-f97d-67a7e2d946f2"
      },
      "execution_count": 77,
      "outputs": [
        {
          "output_type": "stream",
          "name": "stdout",
          "text": [
            "Entre com o nome do cômodo: Piscina\n",
            "Entre com a base do cômodo: 3\n",
            "Entre com a altura do cômodo: 6\n",
            "O cômodo  Piscina  tem a área de  18 metros quadrados\n"
          ]
        }
      ]
    },
    {
      "cell_type": "code",
      "source": [
        "print(novo_comodo)"
      ],
      "metadata": {
        "colab": {
          "base_uri": "https://localhost:8080/"
        },
        "id": "Q8Jkuc6ZavXZ",
        "outputId": "a34d819f-3737-4771-ba1d-1443ffbbd265"
      },
      "execution_count": 67,
      "outputs": [
        {
          "output_type": "stream",
          "name": "stdout",
          "text": [
            "Piscina\n"
          ]
        }
      ]
    },
    {
      "cell_type": "code",
      "source": [
        "print(nova_base)"
      ],
      "metadata": {
        "colab": {
          "base_uri": "https://localhost:8080/"
        },
        "id": "gOReo21xavcr",
        "outputId": "a99b41e0-30f7-439b-b141-8629f6160e5b"
      },
      "execution_count": 68,
      "outputs": [
        {
          "output_type": "stream",
          "name": "stdout",
          "text": [
            "3\n"
          ]
        }
      ]
    },
    {
      "cell_type": "code",
      "source": [
        "print(nova_altura)"
      ],
      "metadata": {
        "colab": {
          "base_uri": "https://localhost:8080/"
        },
        "id": "xWDJbHVzbaF0",
        "outputId": "2b1adda2-dd20-41a8-ca35-70309ef6ab81"
      },
      "execution_count": 69,
      "outputs": [
        {
          "output_type": "stream",
          "name": "stdout",
          "text": [
            "6\n"
          ]
        }
      ]
    },
    {
      "cell_type": "code",
      "source": [
        "print(calcular_area(nova_base,nova_altura))"
      ],
      "metadata": {
        "colab": {
          "base_uri": "https://localhost:8080/"
        },
        "id": "5j2YmNzQbaIK",
        "outputId": "8bb58ad3-98d8-4ee3-8163-b455ba4d355d"
      },
      "execution_count": 72,
      "outputs": [
        {
          "output_type": "stream",
          "name": "stdout",
          "text": [
            "18\n"
          ]
        }
      ]
    },
    {
      "cell_type": "code",
      "source": [
        ""
      ],
      "metadata": {
        "id": "_uLTWFTRbaM9"
      },
      "execution_count": null,
      "outputs": []
    },
    {
      "cell_type": "code",
      "source": [
        ""
      ],
      "metadata": {
        "id": "raapWaPMbaQf"
      },
      "execution_count": null,
      "outputs": []
    }
  ]
}